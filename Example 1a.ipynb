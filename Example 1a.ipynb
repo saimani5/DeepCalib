{
 "cells": [
  {
   "cell_type": "markdown",
   "metadata": {},
   "source": [
    "# Example 1a: Harmonic trap - Training of DeepCalib\n",
    "\n",
    "Example code to train DeepCalib to determine the stiffness of a Brownian particle system in a harmonic trap.\n",
    "\n",
    "<strong>DeepCalib 1.0</strong><br/>\n",
    "Enhanced force-field calibration via machine learning<br/>\n",
    "version 1.0 - 27 April 2020<br/>\n",
    "© Aykut Argun, Tobias Thalheim, Stefano Bo, Frank Cichos & Giovanni Volpe <br/>\n",
    "[Soft Matter Lab](http://www.softmatterlab.org)"
   ]
  },
  {
   "cell_type": "markdown",
   "metadata": {},
   "source": [
    "## 1. INIZIALIZATION"
   ]
  },
  {
   "cell_type": "code",
   "execution_count": null,
   "metadata": {},
   "outputs": [],
   "source": [
    "import DeepCalib"
   ]
  },
  {
   "cell_type": "markdown",
   "metadata": {},
   "source": [
    "## 2. DEFINE TRAJECTORY SIMULATION \n",
    "<a id=\"sec2\"></a>\n",
    "\n",
    "Here the function that simulates the motion of the Brownian particle in the force field under consideration is defined. Specifically, in this case, we consider a Brownian particle in a harmonic force field, and the motion of the particle depends on the the trap stiffness k.\n",
    "\n",
    "This file is used to reproduce results that are shown in Fig.1 and generate the pretrained network \"DeepCalib_Example 1a.h5\" that is going to be needed to execute Example 1b.\n",
    "\n",
    "Comments:\n",
    "1. The function that simulates the trajectories must be called <strong>simulate_trajectory</strong>.\n",
    "2. Lambda functions <strong>scale_inputs</strong>, <strong>rescale_inputs</strong>, <strong>scale_targets</strong>, and <strong>rescale_targets</strong> must also be defined. For the best performance of the learning, the rescaling of both the inputs and targets should lead to values of order 1."
   ]
  },
  {
   "cell_type": "code",
   "execution_count": null,
   "metadata": {},
   "outputs": [],
   "source": [
    "### Physical parameters \n",
    "from math import pi\n",
    "R = 1e-7                   # Radius of the Brownian particle [m]\n",
    "eta = 0.001                # Viscosity of the medium [kg m^-1 s^-1]\n",
    "T = 300                    # Temperature [K]\n",
    "k0 = 1e-8                  # Reference stiffness [N m^-1]\n",
    "gamma0 = 2 * 6 * pi * eta * R  # Reference friction coefficient [kg s^-1]\n",
    "\n",
    "### Simulation parameters\n",
    "N = 1000                   # Number of samples of the trajectory\n",
    "Dt = 1e-2                  # Timestep \n",
    "oversampling = 50          # Simulation oversampling\n",
    "offset = 1000              # Number of equilibration timesteps\n",
    "\n",
    "### Define functions to scale and rescale inputs\n",
    "scale_inputs = lambda x: x * 1e+6                    # Scales input trajectory to order 1\n",
    "rescale_inputs = lambda scaled_x: scaled_x * 1e-6    # Rescales input trajectory to physical units\n",
    "\n",
    "### Define function to scale and rescale targets\n",
    "from numpy import log\n",
    "from numpy import exp\n",
    "scale_targets = lambda k: log(k / k0)                               # Scales targets to order 1\n",
    "rescale_targets = lambda scaled_k: exp(scaled_k) * k0               # Inverse of targets_scaling\n",
    "\n",
    "### Define the simulate_trajectory function\n",
    "\n",
    "def simulate_trajectory(batch_size=32, \n",
    "                        T=T,\n",
    "                        k0=k0,\n",
    "                        gamma0=gamma0,\n",
    "                        N=N, \n",
    "                        Dt=Dt, \n",
    "                        oversampling=oversampling, \n",
    "                        offset=offset, \n",
    "                        scale_inputs=scale_inputs, \n",
    "                        scale_targets=scale_targets):\n",
    "    \n",
    "    \"\"\"Simulates a Brownian particle in a harmonic trap\n",
    "    \n",
    "    Inputs:\n",
    "    \n",
    "    T:              temperature of the environment\n",
    "    k0:             center of the stiffness range\n",
    "    gamma0:         friction coefficient\n",
    "    N:              number of trajectory data points\n",
    "    Dt:             measurement period\n",
    "    oversampling:   oversampling from the simulation time step (to calculate dt)\n",
    "    offset:         steps of the simulation before starting to save the trajectory\n",
    "    scale_inputs:   inputs scale function for the network, to normalize it comparable to 1 \n",
    "    scale_targets:  targets scale function for the network, to normalize it comparable to 1\n",
    "        \n",
    "    Outputs:\n",
    "    \n",
    "    inputs: the inputs for the network, these are trajectories that have the following features: \n",
    "            \n",
    "            inputs.names:          names of the input trajectory variables ('x', 'y' etc)\n",
    "            inputs.values:         values of the inputs in SI units\n",
    "            inputs.scalings:       short description of the scaling function for the inputs ('x*1e6' etc)\n",
    "            inputs.scaled_values:  scaled values of the inputs to be passed to the network for training\n",
    "            \n",
    "    targets: the expected ground truth measurements for the trajectory that have following features: \n",
    "            \n",
    "            targets.names:          names of the targets to be measures ('k' etc)\n",
    "            targets.values:         values of the ground truth targets in SI units\n",
    "            targets.scalings:       short description of the scaling function for the targets ('log(k/k0)' etc)\n",
    "            targets.scaled_values:  scaled values of the ground truth targets to be passed to the network for training      \n",
    "    \"\"\"  \n",
    "\n",
    "    import numpy as np\n",
    "    from scipy.constants import Boltzmann as kB\n",
    "    from math import pi\n",
    "    from math import sqrt\n",
    "    from numpy.random import randn as gauss\n",
    "    from numpy.random import rand as uniform\n",
    "   \n",
    "    ### Randomize trajectory parameters\n",
    "    \n",
    "    k = k0 * (10**(uniform(batch_size) * 4 - 1.5))     # Generates random stiffness values that are uniformly distributed in log scale\n",
    "    gamma = gamma0 * (uniform(batch_size) * .1 + .95)  # Marginal randomization of friction coefficient to tolarate small changes\n",
    "\n",
    "    ### Simulate\n",
    "    \n",
    "    dt = Dt / oversampling                 # time step of the simulation\n",
    "    x = np.zeros((batch_size, N))          # initialization of the x array\n",
    "    D = kB * T / gamma                     # diffusion coefficient\n",
    "    C1 = -k / gamma * dt                   # drift coefficient of the Langevin equation\n",
    "    C3 = np.sqrt(2 * D * dt)               # random walk coefficient of the Langevin equation\n",
    "    X = x[:, 0]\n",
    "    n = 0\n",
    "    \n",
    "    for t in range(offset):                      # Offset (for some prerun before running)\n",
    "        X = X + C1 * X + C3 * gauss(batch_size)\n",
    "        \n",
    "    for t in range(N * oversampling):            # Simulation                \n",
    "        X = X + C1 * X + C3 * gauss(batch_size)\n",
    "        if t % oversampling == 0:                # We save every oversampling^th values \n",
    "            x[:, n] = X \n",
    "            n += 1\n",
    "    \n",
    "    # Normalize trajectory and targets\n",
    "    \n",
    "    inputs = DeepCalib.trajectory(\n",
    "        names=['x'],  \n",
    "        values=x, \n",
    "        scalings=['x * 1e6'], \n",
    "        scaled_values=scale_inputs(x))\n",
    "    \n",
    "    targets = DeepCalib.targets(\n",
    "        names=['k'], \n",
    "        values=k,\n",
    "        scalings=['log(k / k0)'], \n",
    "        scaled_values=scale_targets(k))    \n",
    "    \n",
    "    return inputs, targets"
   ]
  },
  {
   "cell_type": "markdown",
   "metadata": {},
   "source": [
    "## 3. CHECK TRAJECTORY SIMULATION\n",
    "\n",
    "Checks the results of the function to simulate the trajectories by plotting some examples in rescaled units. \n",
    "\n",
    "Have a look at the trajectories and check if they match your system, and keep an eye on different trajectories and make sure your scaled units vary in the order of 1, i.e, neither too small (0.01 or smaller) nor too large (100 or larger)\n",
    "\n",
    "The parameter <strong>number_of_images_to_show</strong> determines the number of trajectories that are plotted."
   ]
  },
  {
   "cell_type": "code",
   "execution_count": null,
   "metadata": {},
   "outputs": [],
   "source": [
    "### Show some examples of simulated trajectories\n",
    "\n",
    "number_of_trajectories_to_show = 10\n",
    "%matplotlib inline\n",
    "DeepCalib.plot_sample_trajectories(simulate_trajectory, number_of_trajectories_to_show)"
   ]
  },
  {
   "cell_type": "markdown",
   "metadata": {},
   "source": [
    "## 4. CREATE AND COMPILE DEEP LEARNING NETWORK\n",
    "\n",
    "The parameters of the deep learning network are defined and the network created. The summary of the network is printed where the output shape and number of parameters for each layer can be visualized.  \n",
    "\n",
    "Comments:\n",
    "1. The parameter <strong>input_shape</strong> determines the shape of the input sequence, given by the number of time-steps times the number of samples in each input sequence. Make sure your input shape dimensions match the length of the input trajectory, in this example 2 x 500 = 1000.\n",
    "2. The parmameter <strong>conv_layers_dimensions</strong> determines the number and size of LSTM layers.\n",
    "3. The parameter <strong>number_of_outputs</strong> determines the number of outputs, i.e. the number of force field parameters to be estimated."
   ]
  },
  {
   "cell_type": "code",
   "execution_count": null,
   "metadata": {},
   "outputs": [],
   "source": [
    "### Define parameters of the deep learning network\n",
    "input_shape = (2, 500)      \n",
    "lstm_layers_dimensions = (1000, 250, 50)\n",
    "number_of_outputs = 1\n",
    "\n",
    "### Create deep learning network\n",
    "network = DeepCalib.create_deep_learning_network(input_shape, lstm_layers_dimensions, number_of_outputs)\n",
    "\n",
    "### Print deep learning network summary\n",
    "network.summary()"
   ]
  },
  {
   "cell_type": "markdown",
   "metadata": {},
   "source": [
    "## 5. TRAIN DEEP LEARNING NETWORK\n",
    "\n",
    "The parameters for the training of the deep learning network are defined and the network is trained. The sample size, iteration number, MSE, MAE and the time of each iteration is printed.\n",
    "\n",
    "Comments:\n",
    "1. The parameter <strong>sample_sizes</strong> determines the sizes of the batches of trajectories used in the training.\n",
    "2. The parameter <strong>iteration_numbers</strong> determines the numbers of batches used in the training.\n",
    "3. The parameter <strong>verbose</strong> determines the frequency of the update messages. It can be either a boolean value (True/False) or a number between 0 and 1."
   ]
  },
  {
   "cell_type": "code",
   "execution_count": null,
   "metadata": {
    "scrolled": true
   },
   "outputs": [],
   "source": [
    "### Define parameters of the training\n",
    "sample_sizes = (8, 32, 128, 512, 2048)\n",
    "iteration_numbers = (1001, 1001, 1001, 2001, 4001)\n",
    "verbose = .1                    \n",
    "\n",
    "### Training\n",
    "training_history = DeepCalib.train_deep_learning_network(network, simulate_trajectory, sample_sizes, iteration_numbers, verbose)"
   ]
  },
  {
   "cell_type": "markdown",
   "metadata": {},
   "source": [
    "## 6. PLOT LEARNING PERFORMANCE\n",
    "\n",
    "The learning performance is plotted. The MSE, MAE, sample size, iteration number and iteration time are plotted against the number of timesteps. \n",
    "\n",
    "Comment:\n",
    "1. The parameter <strong>number_of_timesteps_for_average</strong> determines the length of the average. It must be a positive integer number."
   ]
  },
  {
   "cell_type": "code",
   "execution_count": null,
   "metadata": {},
   "outputs": [],
   "source": [
    "### Plot learning performance\n",
    "number_of_timesteps_for_average = 100\n",
    "DeepCalib.plot_learning_performance(training_history, number_of_timesteps_for_average)"
   ]
  },
  {
   "cell_type": "markdown",
   "metadata": {},
   "source": [
    "## 7. TEST DEEP LEARNING NETWORK ON NEW SIMULATED TRAJECTORIES\n",
    "\n",
    "The deep learning network is tested on new simulated trajectories (parameters are defined in [section 2](#sec2)). The predicted values of the targets are plotted as function of their ground-truth values both in scaled and physical units.\n",
    "\n",
    "Comments:\n",
    "1. The parameter <strong>number_of_predictions_to_show</strong> determines the number of predictions that are shown."
   ]
  },
  {
   "cell_type": "code",
   "execution_count": null,
   "metadata": {},
   "outputs": [],
   "source": [
    "### Test the predictions of the deep learning network on some generated trajectories\n",
    "number_of_predictions_to_show = 1000\n",
    "\n",
    "%matplotlib inline\n",
    "DeepCalib.plot_test_performance(simulate_trajectory, network, rescale_targets, number_of_predictions_to_show)"
   ]
  },
  {
   "cell_type": "markdown",
   "metadata": {},
   "source": [
    "## 9. SAVE DEEP LEARNING NETWORK\n",
    "\n",
    "Comments:\n",
    "1. The parameter <strong>save_file_name</strong> is the name of the file where the deep learnign network is saved.\n",
    "2. By default, the network is saved in the same folder where DeepCalib is running."
   ]
  },
  {
   "cell_type": "code",
   "execution_count": null,
   "metadata": {},
   "outputs": [],
   "source": [
    "save_file_name = 'Network_Example_1a.h5'\n",
    "network.save(save_file_name)"
   ]
  }
 ],
 "metadata": {
  "kernelspec": {
   "display_name": "Python 3",
   "language": "python",
   "name": "python3"
  },
  "language_info": {
   "codemirror_mode": {
    "name": "ipython",
    "version": 3
   },
   "file_extension": ".py",
   "mimetype": "text/x-python",
   "name": "python",
   "nbconvert_exporter": "python",
   "pygments_lexer": "ipython3",
   "version": "3.6.5"
  }
 },
 "nbformat": 4,
 "nbformat_minor": 2
}
